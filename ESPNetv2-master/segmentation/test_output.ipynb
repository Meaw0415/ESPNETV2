{
 "cells": [
  {
   "cell_type": "code",
   "execution_count": null,
   "metadata": {},
   "outputs": [],
   "source": [
    "from cnn import SegmentationModel as net\n",
    "from DataSet import CamVidDataset\n",
    "from torchvision import transforms\n",
    "from d2l import torch as d2l\n",
    "from tqdm import tqdm\n",
    "import pandas as pd\n",
    "import monai\n",
    "from torchcontrib.optim import SWA\n",
    "import torch\n",
    "from torch.utils.data import DataLoader\n",
    "from torch import nn\n",
    "import numpy as np\n",
    "from IOUEval import iouEval\n",
    "import time\n",
    "import cv2\n",
    "import torch.nn.functional as F\n"
   ]
  },
  {
   "cell_type": "code",
   "execution_count": 6,
   "metadata": {},
   "outputs": [],
   "source": [
    "val_path   = \"C:/Users/asus/Desktop/Video Substraction/DAVIS/ImageSets/480p/val.txt\"\n",
    "model_path = \"C:/Users/asus/Desktop/Video Substraction/Output/checkpoints/ESPNetv2_50.pth\"\n",
    "root_path  = 'C:/Users/asus/Desktop/Video Substraction/DAVIS'\n",
    "val_dataset = CamVidDataset(val_path,root_path)\n",
    "val_loader = DataLoader(val_dataset, batch_size=1, shuffle=False,drop_last=True)\n",
    "toPIL = transforms.ToPILImage()"
   ]
  },
  {
   "cell_type": "code",
   "execution_count": null,
   "metadata": {},
   "outputs": [],
   "source": [
    "def tensor_to_tensor(t):\n",
    "    dim0,dim1 = t.shape\n",
    "    res = torch.zeros((dim0,dim1))\n",
    "    for i in range(dim0):\n",
    "        for j in range(dim1):\n",
    "            item = t[i][j]\n",
    "            if item>0:\n",
    "                # print(item)\n",
    "                res[i][j] = 255\n",
    "            else:\n",
    "                res[i][j] = 0\n",
    "    # print(torch.count_nonzero(res).item())\n",
    "    return res"
   ]
  },
  {
   "cell_type": "code",
   "execution_count": 7,
   "metadata": {},
   "outputs": [],
   "source": [
    "\n",
    "model = net.EESPNet_Seg(2).cuda()\t# 导入网络结构\n",
    "model = nn.DataParallel(model)\n",
    "model.load_state_dict(torch.load(model_path)) # 导入网络的参数\n",
    "devices=d2l.try_all_gpus()\n",
    "for i, (X, labels) in enumerate(val_loader):\n",
    "    if isinstance(X, list):\n",
    "        X = [x.to(devices[0]) for x in X]\n",
    "    else:\n",
    "        X = X.to(devices[0])\n",
    "    gt = labels.long().to(devices[0])\n",
    "    # print(gt)\n",
    "    # np.savetxt('C:/Users/asus/Desktop/ESPNetv2-master/mask_pred/'+f\"{i}\"+'label.txt',labels[0])\n",
    "\n",
    "    output1,_ = model(X)\n",
    "    output = F.softmax(output1,dim=1)\n",
    "    # output = output *255\n",
    "\n",
    "    # break\n",
    "    output = output[0][1]\n",
    "    # output= tensor_to_tensor(output)\n",
    "    output = output *255\n",
    "    # print(output)\n",
    "    output=output.cpu()\n",
    "    output = output.detach().numpy()\n",
    "    cv2.imwrite('C:/Users/asus/Desktop/ESPNetv2-master/mask_pred/'+f\"{i}\"+'.png',output)\n",
    "\n",
    "    # pic = toPIL(output)\n",
    "    # pic.save('C:/Users/asus/Desktop/ESPNetv2-master/mask_pred/'+f\"{i}\"+'.png')\n",
    "    # gt1 = gt[0].to(dtype=torch.float32)*255\n",
    "    # # gt1 = tensor_to_tensor(gt1)\n",
    "    # gt1 = gt1.cpu()\n",
    "    # # print(gt1.shape)\n",
    "    # gt1 = gt1.numpy()\n",
    "    \n",
    "    # # np.savetxt('C:/Users/asus/Desktop/ESPNetv2-master/mask_pred/'+f\"{i}\"+'label.txt',gt1)\n",
    "    # # print(gt1.shape)\n",
    "    # # pic1 = toPIL(gt1)\n",
    "    # # pic1.save('C:/Users/asus/Desktop/ESPNetv2-master/mask_pred/'+f\"{i}\"+'label.png')\n",
    "    # cv2.imwrite('C:/Users/asus/Desktop/ESPNetv2-master/mask_pred/'+f\"{i}\"+'label.png',gt1)\n",
    "    # break\n",
    "            "
   ]
  },
  {
   "cell_type": "code",
   "execution_count": null,
   "metadata": {},
   "outputs": [],
   "source": []
  },
  {
   "cell_type": "code",
   "execution_count": 8,
   "metadata": {},
   "outputs": [],
   "source": [
    "dir = 'C:/Users/asus/Desktop/ESPNetv2-master/mask_pred'\n",
    "dir_o = 'C:/Users/asus/Desktop/ESPNetv2-master/Pred_Mask_480p'"
   ]
  },
  {
   "cell_type": "code",
   "execution_count": 13,
   "metadata": {},
   "outputs": [],
   "source": [
    "import os\n",
    "import time\n",
    "from PIL import Image\n",
    "def alter(path,object):\n",
    "  s = os.listdir(path)\n",
    "  count = 1\n",
    "  for i in s:\n",
    "    document = os.path.join(path,i)\n",
    "    img = Image.open(document)\n",
    "    out = img.resize((854,480))\n",
    "    listStr = [str(int(time.time())), str(count)]\n",
    "    fileName = ''.join(listStr)\n",
    "    i = i.strip('.png')\n",
    "    out.save(object+os.sep+'%s.png' % i)\n",
    "    count = count + 1\n",
    "alter(dir,dir_o)"
   ]
  },
  {
   "cell_type": "code",
   "execution_count": 1,
   "metadata": {},
   "outputs": [],
   "source": [
    "import shutil\n",
    "list_total=[]\n",
    "list_mask=[]\n",
    "val0_path = \"C:/Users/asus/Desktop/Video Substraction/DAVIS/ImageSets/480p/val0.txt\""
   ]
  },
  {
   "cell_type": "code",
   "execution_count": 2,
   "metadata": {},
   "outputs": [],
   "source": [
    "with open(val0_path,'r') as f :\n",
    "        for line in f.readlines():\n",
    "            line=line.strip('\\n')\n",
    "            list_total.append(line)\n",
    "        for pair in list_total:\n",
    "            p = pair.split('   ')\n",
    "            mask = p[1]\n",
    "\n",
    "            # list_img.append(img)\n",
    "            list_mask.append(mask)"
   ]
  },
  {
   "cell_type": "code",
   "execution_count": 3,
   "metadata": {},
   "outputs": [],
   "source": [
    "original_dir = \"C:/Users/asus/Desktop/ESPNetv2-master/Pred_Mask_480p\"\n",
    "output_dir = \"C:/Users/asus/Desktop/ESPNetv2-master/Pred_480p\""
   ]
  },
  {
   "cell_type": "code",
   "execution_count": 8,
   "metadata": {},
   "outputs": [
    {
     "ename": "FileNotFoundError",
     "evalue": "[WinError 2] 系统找不到指定的文件。: 'C:/Users/asus/Desktop/ESPNetv2-master/Pred_Mask_480p\\\\0.png' -> 'C:/Users/asus/Desktop/ESPNetv2-master/Pred_480p\\\\blackswan/00000.png '",
     "output_type": "error",
     "traceback": [
      "\u001b[1;31m---------------------------------------------------------------------------\u001b[0m",
      "\u001b[1;31mFileNotFoundError\u001b[0m                         Traceback (most recent call last)",
      "\u001b[1;32m<ipython-input-8-1838fe10dd98>\u001b[0m in \u001b[0;36m<module>\u001b[1;34m()\u001b[0m\n\u001b[0;32m      8\u001b[0m     \u001b[1;32mif\u001b[0m \u001b[1;32mnot\u001b[0m \u001b[0mos\u001b[0m\u001b[1;33m.\u001b[0m\u001b[0mpath\u001b[0m\u001b[1;33m.\u001b[0m\u001b[0mexists\u001b[0m\u001b[1;33m(\u001b[0m\u001b[0mdirs\u001b[0m\u001b[1;33m)\u001b[0m\u001b[1;33m:\u001b[0m\u001b[1;33m\u001b[0m\u001b[0m\n\u001b[0;32m      9\u001b[0m         \u001b[0mos\u001b[0m\u001b[1;33m.\u001b[0m\u001b[0mmakedirs\u001b[0m\u001b[1;33m(\u001b[0m\u001b[0mdirs\u001b[0m\u001b[1;33m)\u001b[0m\u001b[1;33m\u001b[0m\u001b[0m\n\u001b[1;32m---> 10\u001b[1;33m     \u001b[0mos\u001b[0m\u001b[1;33m.\u001b[0m\u001b[0mrename\u001b[0m\u001b[1;33m(\u001b[0m\u001b[0moriginal_file_path\u001b[0m\u001b[1;33m,\u001b[0m\u001b[0moutput_file_path\u001b[0m\u001b[1;33m)\u001b[0m\u001b[1;33m\u001b[0m\u001b[0m\n\u001b[0m\u001b[0;32m     11\u001b[0m \u001b[1;33m\u001b[0m\u001b[0m\n\u001b[0;32m     12\u001b[0m \u001b[1;33m\u001b[0m\u001b[0m\n",
      "\u001b[1;31mFileNotFoundError\u001b[0m: [WinError 2] 系统找不到指定的文件。: 'C:/Users/asus/Desktop/ESPNetv2-master/Pred_Mask_480p\\\\0.png' -> 'C:/Users/asus/Desktop/ESPNetv2-master/Pred_480p\\\\blackswan/00000.png '"
     ]
    }
   ],
   "source": [
    "for i in range(len(list_mask)):\n",
    "    original_file_path = f\"{i+1}.png\"\n",
    "    original_file_path = os.path.join(original_dir,original_file_path)\n",
    "    # print(original_file_path)\n",
    "    output_file_name = list_mask[i][1:]\n",
    "    output_file_path = os.path.join(output_dir,output_file_name)\n",
    "    dirs = os.path.dirname(output_file_path)\n",
    "    if not os.path.exists(dirs):\n",
    "        os.makedirs(dirs)\n",
    "    os.rename(original_file_path,output_file_path)\n",
    "    \n",
    "    "
   ]
  },
  {
   "cell_type": "code",
   "execution_count": null,
   "metadata": {},
   "outputs": [],
   "source": []
  },
  {
   "cell_type": "code",
   "execution_count": 5,
   "metadata": {},
   "outputs": [
    {
     "name": "stdout",
     "output_type": "stream",
     "text": [
      "1376\n"
     ]
    }
   ],
   "source": [
    "print(len(list_mask))"
   ]
  }
 ],
 "metadata": {
  "kernelspec": {
   "display_name": "Python 3.7.0 ('base')",
   "language": "python",
   "name": "python3"
  },
  "language_info": {
   "codemirror_mode": {
    "name": "ipython",
    "version": 3
   },
   "file_extension": ".py",
   "mimetype": "text/x-python",
   "name": "python",
   "nbconvert_exporter": "python",
   "pygments_lexer": "ipython3",
   "version": "3.7.0"
  },
  "orig_nbformat": 4,
  "vscode": {
   "interpreter": {
    "hash": "88279d2366fe020547cde40dd65aa0e3aa662a6ec1f3ca12d88834876c85e1a6"
   }
  }
 },
 "nbformat": 4,
 "nbformat_minor": 2
}
